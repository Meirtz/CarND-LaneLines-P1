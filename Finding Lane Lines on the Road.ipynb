{
 "cells": [
  {
   "cell_type": "markdown",
   "metadata": {},
   "source": [
    "# Finding Lane Lines on the Road\n",
    "\n",
    "### My goal\n",
    "My goal of this project is to find a robust way of detecting road line in variate illumination and road conditions. I divide it into following steps:\n",
    "1. Tuning Canny edge detector;\n",
    "2. Tuning Hough Line Transformation;\n",
    "3. Tuning line segments extrapolation, which is the most hard part."
   ]
  },
  {
   "cell_type": "markdown",
   "metadata": {},
   "source": [
    "## Reflection\n"
   ]
  },
  {
   "cell_type": "markdown",
   "metadata": {},
   "source": [
    "### 1. Pipeline and trick\n",
    "My pipeline is quite simple:\n",
    "1. Convert RGB image to yellow_grayscale image using cv2.inRange, which will lower the brightness of yellow color;\n",
    "2. Filter the image using gaussian kernel to blur image;\n",
    "3. Apply Canny edge detector atfer tuning parameters;\n",
    "4. Mask the edge image, and ignore everything ouside ROI;\n",
    "5. Apply Hough transformation and draw hough line;\n",
    "6. Connect line segments when dealing with video.\n",
    "\n",
    "The first four tasks are very easy to do with help-functions and OpenCV APIs, so what I am going to talk about are the latter two tasks. For apply hough transmation, I chose ```cv2.HoughLinesP(image, rho, theta, threshold[, lines[, minLineLength[, maxLineGap]]]) → lines```. The core idea of Hough Transformation is voting. Voting is a general technique where we let the features vote all models that are compatible with it. Voting works for the same reason that who would be elected U.S. president and chief executive of Hong Kong ASR. After tuning accumulator threshold parameter ```threshold```, I've got two ways to find reasonable hough line in an image, one is to set ```minLineLength``` and ```maxLineGap``` very low and the other way is to set them very high(above 100). Higher ```minLineLength``` and ```maxLineGap``` will make longer and lines in the image and they will trend to connect line segments in the same line automatically, while lower ```minLineLength``` and ```maxLineGap``` show me more details about what the true lane lines like but will leave me with more short segments. The image of high and low parameter shows below.\n",
    "![High minLineLength and maxLineGap](writeup_image/high_lengap.png)\n",
    "![Low minLineLength and maxLineGap](writeup_image/low_lengap.png)\n",
    "\n",
    "It seems that higher may be better since we will extrapolate line segments after all, and with higher parameters it will do most of the job. But when we use high parameter in challange video, it works very terrible because it connected too many noise points.\n",
    "![Noise point was connected](writeup_image/cha_noise.png)\n",
    "\n",
    "As we all know, lines in 2D cartesian coordinate system can be defined by $y = ax + b$, where a is slope, b is bias(or intercept). And $a$ can be calculated by $\\frac{y_2 - y_1}{x_2 - x_1}$, and $b = y - ax $. \n",
    "\n",
    "The next thing I did is to remove noises. I though about using sklean to remove noise since it contains several outlier detection APIs such as One Class SVM, but it may be very slow to use any machine learning method. So I divede the line segments by left line and right line, and apply following methods to remove noise:\n",
    "1. Remove the line whose slope $m$ is ridiculous. Left line must satisify $m \\in (-0.75, -0.45)$ and for right lines it's $m \\in (0.45, 0.75)$;\n",
    "2. Only reserve the the line whose slope and bias is within mean $\\pm$ 1.5 × standard deviation of it side respectively;\n",
    "3. Remove the lines in the bottom 60% of the image that has length smaller than ```len_threshold```;\n",
    "\n",
    "My idea of calculating left lane and right lane is that calculatiing weighted average the slope and bias of left lane lines and right lanes lines. The rule of outlier removal is strict, so ometimes may all the lines be removed, when there are too few reliable line, so I sotre lane lines of last frame in case I get no inliers in current frame. It works pretty good with all the test videos.\n",
    "![Yellow lane lines](writeup_image/yellow_good.png)\n",
    "![Challenge lane lines](writeup_image/cha_good.png)\n"
   ]
  },
  {
   "cell_type": "markdown",
   "metadata": {},
   "source": [
    "### 2. Potential shortcomings\n",
    "1. It is still not robust enough, strong noises will still have impact on it.\n",
    "2. It can't fit curve lane line;\n",
    "3. The algorithm is time-consuming;\n",
    "4. The lines it draw is not stable: they are shaking in a small range."
   ]
  },
  {
   "cell_type": "markdown",
   "metadata": {},
   "source": [
    "### TODO\n",
    "1. Find a way to detect line in a more robust way, maybe I need to use Cicrle Hough Transformation, cv.FitLine or something, I will check that sooner;\n",
    "2. Find a better way to remove outliers, or find a better way to detect edge with fewer outlier;\n",
    "3. Apply deep learning methods for lane line detection."
   ]
  }
 ],
 "metadata": {
  "kernelspec": {
   "display_name": "Python 3",
   "language": "python",
   "name": "python3"
  },
  "language_info": {
   "codemirror_mode": {
    "name": "ipython",
    "version": 3
   },
   "file_extension": ".py",
   "mimetype": "text/x-python",
   "name": "python",
   "nbconvert_exporter": "python",
   "pygments_lexer": "ipython3",
   "version": "3.5.3"
  }
 },
 "nbformat": 4,
 "nbformat_minor": 2
}
